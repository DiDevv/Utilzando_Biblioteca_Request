{
  "nbformat": 4,
  "nbformat_minor": 0,
  "metadata": {
    "colab": {
      "provenance": [],
      "authorship_tag": "ABX9TyMadNFnLbnZkJlf5O7LFBLp",
      "include_colab_link": true
    },
    "kernelspec": {
      "name": "python3",
      "display_name": "Python 3"
    },
    "language_info": {
      "name": "python"
    }
  },
  "cells": [
    {
      "cell_type": "markdown",
      "metadata": {
        "id": "view-in-github",
        "colab_type": "text"
      },
      "source": [
        "<a href=\"https://colab.research.google.com/github/DiDevv/Utilzando_Biblioteca_Request/blob/main/Biblioteca_Request.ipynb\" target=\"_parent\"><img src=\"https://colab.research.google.com/assets/colab-badge.svg\" alt=\"Open In Colab\"/></a>"
      ]
    },
    {
      "cell_type": "markdown",
      "source": [
        "#Pegando informações com GET"
      ],
      "metadata": {
        "id": "Uf1EFuOlm8Nf"
      }
    },
    {
      "cell_type": "code",
      "execution_count": 18,
      "metadata": {
        "colab": {
          "base_uri": "https://localhost:8080/"
        },
        "id": "pg0tR-fcgWnA",
        "outputId": "ebf1fe41-1cbe-486a-bcca-666caf6b0183"
      },
      "outputs": [
        {
          "output_type": "stream",
          "name": "stdout",
          "text": [
            "{'USDBRL': {'code': 'USD', 'codein': 'BRL', 'name': 'Dólar Americano/Real Brasileiro', 'high': '5.3689', 'low': '5.2333', 'varBid': '-0.1105', 'pctChange': '-2.07', 'bid': '5.2389', 'ask': '5.2419', 'timestamp': '1673034215', 'create_date': '2023-01-06 16:43:35'}, 'EURBRL': {'code': 'EUR', 'codein': 'BRL', 'name': 'Euro/Real Brasileiro', 'high': '5.6388', 'low': '5.549', 'varBid': '-0.0502', 'pctChange': '-0.89', 'bid': '5.5763', 'ask': '5.5816', 'timestamp': '1673034218', 'create_date': '2023-01-06 16:43:38'}, 'BTCBRL': {'code': 'BTC', 'codein': 'BRL', 'name': 'Bitcoin/Real Brasileiro', 'high': '90.97', 'low': '89.003', 'varBid': '-1294', 'pctChange': '-1.42', 'bid': '89.569', 'ask': '89.7', 'timestamp': '1673033924', 'create_date': '2023-01-06 16:38:44'}}\n"
          ]
        }
      ],
      "source": [
        "#utilizando o request para importar informações de conversão de moedas de uma api de cotação de moedas\n",
        "import requests\n",
        "\n",
        "x = requests.get('https://economia.awesomeapi.com.br/last/USD-BRL,EUR-BRL,BTC-BRL')\n",
        "\n",
        "print(x.json())\n"
      ]
    },
    {
      "cell_type": "markdown",
      "source": [
        "#Utilizando o POST, PATCH E DELETE, com um banco de dados do Firebase"
      ],
      "metadata": {
        "id": "EDTR4_JJnQrX"
      }
    },
    {
      "cell_type": "code",
      "source": [
        "#Aqui eu chamo o meu banco de dados com o endereço (esse banco fictício é criado pelo Firebase do google)\n",
        "#É importante atentar-se ao .json no final, o firebase recomenda que adicione para que o tráfego que informações seja feito com .json\n",
        "import requests\n",
        "\n",
        "b = requests.get('https://teste-36efb-default-rtdb.firebaseio.com/.json')\n",
        "print(b)\n",
        "print(b.json())"
      ],
      "metadata": {
        "colab": {
          "base_uri": "https://localhost:8080/"
        },
        "id": "LlztZiz0naEI",
        "outputId": "9967ca4d-f478-4589-9ee6-918f42f89cb5"
      },
      "execution_count": 28,
      "outputs": [
        {
          "output_type": "stream",
          "name": "stdout",
          "text": [
            "<Response [200]>\n",
            "[None, {'Idade': 25, 'Nome': 'Diogo', 'cpf': '124.651.213-41'}]\n"
          ]
        }
      ]
    },
    {
      "cell_type": "code",
      "source": [
        "#Aqui eu crio minha variável de informações ao qual eu quero adicionar ao banco com o .post\n",
        "informacoes = '{ \"Idade\": 45, \"Nome\": \"Fabiana\", \"cpf\": \"871.981.213.-67\"}'\n",
        "#Adiciono o parâmetro informações para que ele seja alocado ao banco de dados, e empurramos o post quantas vezes quisermos.\n",
        "b = requests.post('https://teste-36efb-default-rtdb.firebaseio.com/.json', data=informacoes)\n",
        "print(b)\n",
        "print(b.json())"
      ],
      "metadata": {
        "colab": {
          "base_uri": "https://localhost:8080/"
        },
        "id": "qghhmKnBqIro",
        "outputId": "8f8075e1-e637-4668-9ffb-e6e070e7b619"
      },
      "execution_count": 35,
      "outputs": [
        {
          "output_type": "stream",
          "name": "stdout",
          "text": [
            "<Response [200]>\n",
            "{'name': '-NL7g-OX1-LLAr0MVP-l'}\n"
          ]
        }
      ]
    },
    {
      "cell_type": "code",
      "source": [
        "#Diferente do POST, o PATCH edita informações\n",
        "#Adicionamos o link do item que queremos editar, esse por exemplo retornava Idade: 22, Nome: Iago e CPF:124.154.212-13\n",
        "informacoes = '{ \"Idade\": 23, \"Nome\": \"Yago\", \"cpf\": \"871.981.213.-68\"}'\n",
        "#Fiz leves alterações!\n",
        "b = requests.patch('https://teste-36efb-default-rtdb.firebaseio.com/-NL7fZBbijNpSFHz6qGR/.json', data=informacoes)\n",
        "print(b)\n",
        "print(b.json())"
      ],
      "metadata": {
        "colab": {
          "base_uri": "https://localhost:8080/"
        },
        "id": "qoSe8jk7tA8J",
        "outputId": "48c42c1c-15c9-4765-caba-e35409d66929"
      },
      "execution_count": 36,
      "outputs": [
        {
          "output_type": "stream",
          "name": "stdout",
          "text": [
            "<Response [200]>\n",
            "{'Idade': 23, 'Nome': 'Yago', 'cpf': '871.981.213.-68'}\n"
          ]
        }
      ]
    },
    {
      "cell_type": "code",
      "source": [
        "#Aqui eu vou APAGAR os dados da Fabiana que existia dentro do banco, para isso, eu adicionei o link do dado que quero deletar e acrescento o .delete\n",
        "b = requests.delete('https://teste-36efb-default-rtdb.firebaseio.com/-NL7g-OX1-LLAr0MVP-l/.json')\n",
        "print(b)\n",
        "print(b.json())"
      ],
      "metadata": {
        "colab": {
          "base_uri": "https://localhost:8080/"
        },
        "id": "WqxkwxiPtygL",
        "outputId": "9aa1c6da-11b3-431c-90b7-6059d1c7838e"
      },
      "execution_count": 37,
      "outputs": [
        {
          "output_type": "stream",
          "name": "stdout",
          "text": [
            "<Response [200]>\n",
            "None\n"
          ]
        }
      ]
    }
  ]
}